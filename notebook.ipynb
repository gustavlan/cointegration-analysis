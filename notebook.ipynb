{
 "cells": [
  {
   "cell_type": "markdown",
   "id": "d331694c",
   "metadata": {},
   "source": [
    "CQF Final project"
   ]
  },
  {
   "cell_type": "code",
   "execution_count": 4,
   "id": "98420b6b",
   "metadata": {},
   "outputs": [
    {
     "name": "stderr",
     "output_type": "stream",
     "text": [
      "[*********************100%***********************]  3 of 3 completed\n",
      "[*********************100%***********************]  2 of 2 completed"
     ]
    },
    {
     "name": "stdout",
     "output_type": "stream",
     "text": [
      "Starting data download...\n",
      "--> Downloading data for: precious_metals_triple\n",
      "--> Downloading data for: oil_pair\n"
     ]
    },
    {
     "name": "stderr",
     "output_type": "stream",
     "text": [
      "\n",
      "[*********************100%***********************]  2 of 2 completed\n",
      "[*********************100%***********************]  2 of 2 completed\n",
      "[*********************100%***********************]  2 of 2 completed\n",
      "[                       0%                       ]"
     ]
    },
    {
     "name": "stdout",
     "output_type": "stream",
     "text": [
      "--> Downloading data for: agri_pair\n",
      "--> Downloading data for: yield_pair\n",
      "--> Downloading data for: currency_pair\n",
      "--> Downloading data for: volatility_pair\n"
     ]
    },
    {
     "name": "stderr",
     "output_type": "stream",
     "text": [
      "[*********************100%***********************]  2 of 2 completed\n",
      "[*********************100%***********************]  2 of 2 completed\n",
      "[*********************100%***********************]  2 of 2 completed\n",
      "[*********************100%***********************]  2 of 2 completed\n",
      "[*********************100%***********************]  2 of 2 completed\n"
     ]
    },
    {
     "name": "stdout",
     "output_type": "stream",
     "text": [
      "--> Downloading data for: eu_index_pair_1\n",
      "--> Downloading data for: eu_index_pair_2\n",
      "--> Downloading data for: fr_banking_pair\n",
      "--> Downloading data for: fast_fashion_pair\n",
      "--> Downloading data for: german_auto_triple\n"
     ]
    },
    {
     "name": "stderr",
     "output_type": "stream",
     "text": [
      "[*********************100%***********************]  3 of 3 completed\n",
      "[*********************100%***********************]  2 of 2 completed\n",
      "[*********************100%***********************]  2 of 2 completed\n",
      "[*********************100%***********************]  2 of 2 completed\n",
      "[                       0%                       ]"
     ]
    },
    {
     "name": "stdout",
     "output_type": "stream",
     "text": [
      "--> Downloading data for: investor_ab_pair\n",
      "--> Downloading data for: vw_porsche_pair\n",
      "--> Downloading data for: semiconductor_pair\n",
      "--> Downloading data for: sector_etf_pair\n"
     ]
    },
    {
     "name": "stderr",
     "output_type": "stream",
     "text": [
      "[*********************100%***********************]  2 of 2 completed"
     ]
    },
    {
     "name": "stdout",
     "output_type": "stream",
     "text": [
      "\n",
      "Data download complete.\n",
      "\n",
      "--- Verification ---\n",
      "Successfully downloaded data for 15 groups.\n",
      "The following data groups are now available:\n",
      "- agri_pair\n",
      "- currency_pair\n",
      "- eu_index_pair_1\n",
      "- eu_index_pair_2\n",
      "- fast_fashion_pair\n",
      "- fr_banking_pair\n",
      "- german_auto_triple\n",
      "- investor_ab_pair\n",
      "- oil_pair\n",
      "- precious_metals_triple\n",
      "- sector_etf_pair\n",
      "- semiconductor_pair\n",
      "- volatility_pair\n",
      "- vw_porsche_pair\n",
      "- yield_pair\n",
      "\n",
      "Sample Data for 'volatility_pair':\n",
      "Ticker             VIXY       ^VIX\n",
      "Date                              \n",
      "2020-07-13  2314.399902  32.189999\n",
      "2020-07-14  2176.800049  29.520000\n",
      "2020-07-15  2119.199951  27.760000\n",
      "2020-07-16  2080.800049  28.000000\n",
      "2020-07-17  2006.400024  25.680000\n"
     ]
    },
    {
     "name": "stderr",
     "output_type": "stream",
     "text": [
      "\n"
     ]
    }
   ],
   "source": [
    "import yfinance as yf\n",
    "import pandas as pd\n",
    "from datetime import datetime, timedelta\n",
    "\n",
    "# --- 1. Configuration: Set Dates and Define Asset Tickers ---\n",
    "\n",
    "# Set the time period for data download (last 5 years)\n",
    "end_date = datetime.now()\n",
    "start_date = end_date - timedelta(days=5*365)\n",
    "\n",
    "# A dictionary to organize all the asset groups and their tickers\n",
    "# Volatility pair updated to a more robust US Spot vs. Futures ETF pair.\n",
    "asset_groups = {\n",
    "    # Commodities\n",
    "    \"precious_metals_triple\": [\"GC=F\", \"SI=F\", \"PL=F\"], # Gold, Silver, Platinum Futures\n",
    "    \"oil_pair\": [\"CL=F\", \"BZ=F\"],                     # WTI, Brent Crude Futures\n",
    "    \"agri_pair\": [\"ZC=F\", \"ZS=F\"],                    # Corn, Soybean Futures\n",
    "\n",
    "    # Fixed Income & Currency\n",
    "    \"yield_pair\": [\"^TNX\", \"IGLT.L\"],                 # US 10Y Yield, iShares UK Gilts ETF\n",
    "    \"currency_pair\": [\"AUDUSD=X\", \"CADUSD=X\"],        # AUD/USD, CAD/USD\n",
    "\n",
    "    # Volatility\n",
    "    \"volatility_pair\": [\"^VIX\", \"VIXY\"],              # US VIX Index vs. Short-Term VIX Futures ETF*\n",
    "    \n",
    "    # Country Indices\n",
    "    \"eu_index_pair_1\": [\"^FCHI\", \"^GDAXI\"],           # CAC 40, DAX\n",
    "    \"eu_index_pair_2\": [\"^IBEX\", \"FTSEMIB.MI\"],      # IBEX 35, FTSE MIB\n",
    "\n",
    "    # Equities\n",
    "    \"fr_banking_pair\": [\"BNP.PA\", \"GLE.PA\"],          # BNP Paribas, Société Générale\n",
    "    \"fast_fashion_pair\": [\"ITX.MC\", \"HM-B.ST\"],       # Inditex, H&M\n",
    "    \"german_auto_triple\": [\"VOW3.DE\", \"MBG.DE\", \"BMW.DE\"], # VW, Mercedes, BMW\n",
    "    \"investor_ab_pair\": [\"INVE-A.ST\", \"INVE-B.ST\"],    # Investor A, Investor B\n",
    "    \"vw_porsche_pair\": [\"VOW3.DE\", \"P911.DE\"],        # VW, Porsche AG\n",
    "    \"semiconductor_pair\": [\"ASML.AS\", \"IFX.DE\"],      # ASML, Infineon\n",
    "\n",
    "    # ETFs\n",
    "    \"sector_etf_pair\": [\"XLRE\", \"XLU\"]                # Real Estate ETF, Utilities ETF\n",
    "}\n",
    "\n",
    "# --- 2. Data Download ---\n",
    "\n",
    "# Create an empty dictionary to store the downloaded dataframes\n",
    "all_data = {}\n",
    "\n",
    "print(\"Starting data download...\")\n",
    "\n",
    "for group_name, tickers in asset_groups.items():\n",
    "    print(f\"--> Downloading data for: {group_name}\")\n",
    "    try:\n",
    "        # Download daily data for the specified tickers\n",
    "        data = yf.download(tickers,\n",
    "                           start=start_date.strftime('%Y-%m-%d'),\n",
    "                           end=end_date.strftime('%Y-%m-%d'),\n",
    "                           interval=\"1d\",\n",
    "                           auto_adjust=True, # Automatically adjust for splits/dividends\n",
    "                           group_by='ticker')\n",
    "\n",
    "        # When a single ticker in a group fails, yfinance might return a DataFrame\n",
    "        # with only the successful tickers. We need to handle this.\n",
    "        if isinstance(data.columns, pd.MultiIndex):\n",
    "            # If multiple tickers are downloaded, stack them into a clean format\n",
    "            df_processed = data.stack(level=0, future_stack=True).rename_axis(['Date', 'Ticker']).reset_index(level=1)\n",
    "            # We are interested in the 'Close' price\n",
    "            price_data = df_processed.pivot(columns='Ticker', values='Close')\n",
    "        else:\n",
    "            # If only one ticker was successful, it won't have a multi-index\n",
    "            price_data = data[['Close']]\n",
    "            # Rename column to the correct ticker if there's only one\n",
    "            if len(tickers) == 1:\n",
    "                price_data.columns = tickers\n",
    "\n",
    "        # Forward-fill to handle non-trading days and then drop any remaining NaNs\n",
    "        price_data = price_data.ffill().dropna()\n",
    "\n",
    "        if not price_data.empty:\n",
    "            all_data[group_name] = price_data\n",
    "        else:\n",
    "            print(f\"    No data for {group_name} after processing.\")\n",
    "\n",
    "    except Exception as e:\n",
    "        print(f\"    An error occurred while downloading {group_name}: {e}\")\n",
    "\n",
    "print(\"\\nData download complete.\")\n",
    "\n",
    "# --- 3. Verification ---\n",
    "\n",
    "print(\"\\n--- Verification ---\")\n",
    "print(f\"Successfully downloaded data for {len(all_data)} groups.\")\n",
    "print(\"The following data groups are now available:\")\n",
    "for name in sorted(all_data.keys()):\n",
    "    print(f\"- {name}\")\n",
    "\n",
    "# Display the first few rows to verify a successful download\n",
    "print(\"\\nSample Data for 'volatility_pair':\")\n",
    "if 'volatility_pair' in all_data:\n",
    "    print(all_data['volatility_pair'].head())\n",
    "else:\n",
    "    print(\"Could not retrieve 'volatility_pair' data.\")"
   ]
  }
 ],
 "metadata": {
  "kernelspec": {
   "display_name": "venv",
   "language": "python",
   "name": "python3"
  },
  "language_info": {
   "codemirror_mode": {
    "name": "ipython",
    "version": 3
   },
   "file_extension": ".py",
   "mimetype": "text/x-python",
   "name": "python",
   "nbconvert_exporter": "python",
   "pygments_lexer": "ipython3",
   "version": "3.12.3"
  }
 },
 "nbformat": 4,
 "nbformat_minor": 5
}
