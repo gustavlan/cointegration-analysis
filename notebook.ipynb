{
 "cells": [
  {
   "cell_type": "markdown",
   "id": "d331694c",
   "metadata": {},
   "source": [
    "CQF Final project"
   ]
  },
  {
   "cell_type": "markdown",
   "id": "4bb740e4",
   "metadata": {},
   "source": []
  },
  {
   "cell_type": "markdown",
   "id": "78baf28c",
   "metadata": {},
   "source": []
  }
 ],
 "metadata": {
  "language_info": {
   "name": "python"
  }
 },
 "nbformat": 4,
 "nbformat_minor": 5
}
